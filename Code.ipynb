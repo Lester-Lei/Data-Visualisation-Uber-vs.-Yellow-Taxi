{
 "cells": [
  {
   "cell_type": "markdown",
   "metadata": {},
   "source": [
    "## Load Libraries"
   ]
  },
  {
   "cell_type": "code",
   "execution_count": 69,
   "metadata": {
    "ExecuteTime": {
     "end_time": "2019-12-19T17:28:37.702126Z",
     "start_time": "2019-12-19T17:28:35.894261Z"
    }
   },
   "outputs": [],
   "source": [
    "import numpy as np\n",
    "import pandas as pd\n",
    "import geopandas as gpd\n",
    "import json\n",
    "import calendar\n",
    "\n",
    "from bokeh.io import show, output_file, curdoc\n",
    "from bokeh.layouts import column, row, widgetbox, gridplot\n",
    "from bokeh.models import (ColumnDataSource, RangeTool, Panel, \n",
    "                          Tabs, CDSView, ColorBar, CustomJS, \n",
    "                          CustomJSFilter,GeoJSONDataSource, HoverTool,\n",
    "                          LinearColorMapper, Slider, Select,\n",
    "                          BoxZoomTool, PanTool, LinearColorMapper,\n",
    "                          WheelZoomTool, SaveTool, LassoSelectTool,\n",
    "                          CategoricalColorMapper, ResetTool)\n",
    "from bokeh.models.widgets import (Slider, Select, TextInput, \n",
    "                                  Div, CheckboxGroup, RangeSlider, \n",
    "                                  Tabs, DataTable, TableColumn)\n",
    "from bokeh.plotting import figure, output_file, show\n",
    "from bokeh.models import DatetimeTickFormatter\n",
    "from datetime import datetime\n",
    "from bokeh.models import BoxZoomTool\n",
    "from bokeh.models import Legend\n",
    "from bokeh.core.properties import value\n",
    "from bokeh.palettes import brewer, Spectral5, Pastel1_7, YlGnBu, Set3\n",
    "from geopy.geocoders import Nominatim\n"
   ]
  },
  {
   "cell_type": "markdown",
   "metadata": {},
   "source": [
    "## Load Data"
   ]
  },
  {
   "cell_type": "code",
   "execution_count": 3,
   "metadata": {
    "ExecuteTime": {
     "end_time": "2019-12-19T17:50:03.121274Z",
     "start_time": "2019-12-19T17:49:57.799711Z"
    }
   },
   "outputs": [],
   "source": [
    "DFU = pd.read_csv(\"Uber.csv\")"
   ]
  },
  {
   "cell_type": "code",
   "execution_count": 4,
   "metadata": {
    "ExecuteTime": {
     "end_time": "2019-12-19T17:49:39.648137Z",
     "start_time": "2019-12-19T17:49:25.192080Z"
    }
   },
   "outputs": [],
   "source": [
    "DF = pd.read_csv(\"TaxiS.csv\")"
   ]
  },
  {
   "cell_type": "markdown",
   "metadata": {},
   "source": [
    "## Prepare Data"
   ]
  },
  {
   "cell_type": "code",
   "execution_count": 5,
   "metadata": {},
   "outputs": [],
   "source": [
    "#add Type to each dataframe\n",
    "DF['Type'] = 'Taxi'\n",
    "DFU['Type'] = 'Uber'"
   ]
  },
  {
   "cell_type": "code",
   "execution_count": 14,
   "metadata": {},
   "outputs": [],
   "source": [
    "#split date and time from datetime\n",
    "DFU['Time'] = pd.to_datetime(DFU['Date/Time']).dt.time\n",
    "DFU['Date'] = pd.to_datetime(DFU['Date/Time']).dt.date\n",
    "DFU['Date']=pd.to_datetime(DFU['Date'])"
   ]
  },
  {
   "cell_type": "code",
   "execution_count": 15,
   "metadata": {},
   "outputs": [],
   "source": [
    "#split date and time from datetime\n",
    "DF['Time'] = pd.to_datetime(DF['pickup_datetime']).dt.time\n",
    "DF['Date'] = pd.to_datetime(DF['pickup_datetime']).dt.date\n",
    "DF['Date']=pd.to_datetime(DF['Date'])"
   ]
  },
  {
   "cell_type": "code",
   "execution_count": 16,
   "metadata": {},
   "outputs": [],
   "source": [
    "#extract Hours from Time\n",
    "DFU.loc[:, 'Hour'] = DFU['Time'].apply(lambda x: int(str(x)[:2]))\n",
    "DF.loc[:, 'Hour'] = DFU['Time'].apply(lambda x: int(str(x)[:2]))"
   ]
  },
  {
   "cell_type": "code",
   "execution_count": 17,
   "metadata": {},
   "outputs": [],
   "source": [
    "#extract Months from the Date\n",
    "DF['Month'] = DF['Date'].dt.month\n",
    "DF['Month'] = DF['Month'].apply(lambda x: calendar.month_abbr[x])\n",
    "DFU['Month'] = DFU['Date'].dt.month\n",
    "DFU['Month'] = DFU['Month'].apply(lambda x: calendar.month_abbr[x])"
   ]
  },
  {
   "cell_type": "code",
   "execution_count": 18,
   "metadata": {},
   "outputs": [],
   "source": [
    "#extract days from the Date\n",
    "DFU['day_of_week'] = DFU['Date'].dt.day_name()\n",
    "DF['day_of_week'] = DF['Date'].dt.day_name()"
   ]
  },
  {
   "cell_type": "code",
   "execution_count": 19,
   "metadata": {},
   "outputs": [],
   "source": [
    "#delete white space in the columns\n",
    "DFU.columns = DFU.columns.str.strip()\n",
    "DF.columns = DF.columns.str.strip()"
   ]
  },
  {
   "cell_type": "markdown",
   "metadata": {},
   "source": [
    "## Plot Tab1"
   ]
  },
  {
   "cell_type": "code",
   "execution_count": 20,
   "metadata": {
    "ExecuteTime": {
     "end_time": "2019-12-19T17:59:30.239265Z",
     "start_time": "2019-12-19T17:59:29.794535Z"
    }
   },
   "outputs": [],
   "source": [
    "#Caculate total trips for Uber and Taxi for each day\n",
    "DFUb1 = pd.DataFrame({'Total' : DFU.groupby( [\"Date\",\"Type\"] ).size()}).reset_index()\n",
    "DF1 = pd.DataFrame({'Total' : DF.groupby( [\"Date\",\"Type\"] ).size()}).reset_index()"
   ]
  },
  {
   "cell_type": "code",
   "execution_count": 21,
   "metadata": {
    "ExecuteTime": {
     "end_time": "2019-12-19T17:59:30.876134Z",
     "start_time": "2019-12-19T17:59:30.864779Z"
    }
   },
   "outputs": [],
   "source": [
    "#set up x range\n",
    "x = np.arange(1,184)\n",
    "DFUb1['Days'] = x\n",
    "DF1['Days']=x\n",
    "dates = DFUb1['Days']\n",
    "source1 = ColumnDataSource(data=dict(date=dates, total_uber=DFUb1['Total']))\n",
    "source2 = ColumnDataSource(data=dict(date=dates, total_taxi=DF1['Total']))"
   ]
  },
  {
   "cell_type": "code",
   "execution_count": 25,
   "metadata": {
    "ExecuteTime": {
     "end_time": "2019-12-19T17:59:31.977857Z",
     "start_time": "2019-12-19T17:59:31.025157Z"
    }
   },
   "outputs": [],
   "source": [
    "#start plotting line graph\n",
    "L = figure(plot_height=300, plot_width=800, tools=\"xpan,box_zoom,reset\",\n",
    "           x_axis_location=\"below\", title='Taxi vs Uber in 2014',\n",
    "           x_range=(dates[0], dates[182]))\n",
    "\n",
    "U1 = L.line('date', 'total_uber', source=source1, line_color='black', alpha=0.8)\n",
    "T1 = L.line('date', 'total_taxi', source=source2, line_color='gold', alpha=0.8)\n",
    "L.xaxis.axis_label = 'Days'\n",
    "L.yaxis.axis_label = 'Total'\n",
    "L.left[0].formatter.use_scientific = False\n",
    "L.xaxis.major_tick_line_color = None  \n",
    "L.xaxis.minor_tick_line_color = None  \n",
    "L.yaxis.major_tick_line_color = None  \n",
    "L.yaxis.minor_tick_line_color = None  \n",
    "legend = Legend(items=[(\"Uber\", [U1]),\n",
    "                       (\"Taxi\" , [T1])],\n",
    "                       location=\"center\",\n",
    "                      click_policy=\"hide\")\n",
    "L.add_layout(legend, 'right')\n",
    "\n",
    "select = figure(title=\"Drag the middle and edges of the selection box to change the range above\",\n",
    "                plot_height=130, plot_width=800, y_range=L.y_range,\n",
    "                y_axis_type=None, tools=\"\", toolbar_location=None)\n",
    "\n",
    "range_tool = RangeTool(x_range=L.x_range)\n",
    "range_tool.overlay.fill_color = \"navy\"\n",
    "range_tool.overlay.fill_alpha = 0.2\n",
    "\n",
    "zoom_overlay = L.select_one(BoxZoomTool).overlay\n",
    "zoom_overlay.line_color = \"black\"\n",
    "zoom_overlay.line_width = 3\n",
    "zoom_overlay.line_dash = \"dashed\"\n",
    "zoom_overlay.fill_color = None\n",
    "\n",
    "select.line('date', 'total_uber', source=source1, line_color='black')\n",
    "select.line('date', 'total_taxi', source=source2, line_color='yellow')\n",
    "select.ygrid.grid_line_color = None\n",
    "select.add_tools(range_tool)\n",
    "select.toolbar.active_multi = range_tool\n",
    "\n",
    "Line = (column(L,select))\n",
    "#show(Line)"
   ]
  },
  {
   "cell_type": "code",
   "execution_count": 28,
   "metadata": {
    "ExecuteTime": {
     "end_time": "2019-12-19T18:00:43.452795Z",
     "start_time": "2019-12-19T18:00:43.332445Z"
    }
   },
   "outputs": [],
   "source": [
    "# prepare data for histogram graph\n",
    "def month(x):\n",
    "    if x<31:\n",
    "        return 1\n",
    "    elif x<61:\n",
    "        return 2\n",
    "    elif x<91:\n",
    "        return 3\n",
    "    elif x<121:\n",
    "        return 4\n",
    "    elif x<151:\n",
    "        return 5\n",
    "    elif x<181:\n",
    "        return 6\n",
    "    else:\n",
    "        pass\n",
    "\n",
    "DFUb1['month'] = [month(x) for x in DFUb1['Days']]\n",
    "DFUb1 = DFUb1.dropna(subset=['month'])\n",
    "\n",
    "DF1['month'] = [month(x) for x in DF1['Days']]\n",
    "DF1 = DF1.dropna(subset=['month'])\n",
    "\n",
    "DFUb2 = pd.DataFrame({'total' : DFUb1.groupby(['month', 'Type'])['Total'].agg('sum')}).reset_index()\n",
    "DFUb2['pct_change'] = DFUb2['total'].pct_change()\n",
    "DFUb2['pct_change'] = DFUb2['pct_change'] * 100\n",
    "DFUb2 = DFUb2.dropna(subset=['pct_change'])\n",
    "\n",
    "DF2 = pd.DataFrame({'total' : DF1.groupby(['month', 'Type'])['Total'].agg('sum')}).reset_index()\n",
    "DF2['pct_change'] = DF2['total'].pct_change()\n",
    "DF2['pct_change'] = DF2['pct_change'] * 100\n",
    "DF2 = DF2.dropna(subset=['pct_change'])\n",
    "DFUb2['Month'] = ['May','June','July','August','September']\n",
    "DF2['Month'] = ['May','June','July','August','September']\n",
    "Uber = list(DFUb2['pct_change'])\n",
    "Taxi = list(DF2['pct_change'])\n",
    "months = ['September','August','July','June','May']\n",
    "type1 = ['Uber']\n",
    "type2 = ['Taxi']\n",
    "\n",
    "dct = {'months' : months,\n",
    "       'Uber'   : Uber,\n",
    "       'Taxi'   : Taxi}"
   ]
  },
  {
   "cell_type": "code",
   "execution_count": 29,
   "metadata": {
    "ExecuteTime": {
     "end_time": "2019-12-19T18:00:46.086040Z",
     "start_time": "2019-12-19T18:00:45.442099Z"
    }
   },
   "outputs": [],
   "source": [
    "#start plotting histogram graph\n",
    "Lh = figure(y_range=months, plot_height=250, x_range=(-25, 25), title=\"Percentage Change by Month\", \n",
    "           toolbar_location=None)\n",
    "\n",
    "Lh.hbar_stack(type1, y='months', height=0.9, color='black', source=ColumnDataSource(dct), legend=value(\"Uber\"))\n",
    "Lh.hbar_stack(type2, y='months', height=0.9, color='gold', source=ColumnDataSource(dct), legend=value(\"Taxi\"))\n",
    "Lh.legend.location='top_left'\n",
    "Lh.xaxis.axis_label = 'Percentage'\n",
    "Lh.yaxis.axis_label = 'Months'\n",
    "\n",
    "#show(Lh)"
   ]
  },
  {
   "cell_type": "code",
   "execution_count": 30,
   "metadata": {},
   "outputs": [],
   "source": [
    "layouttab1 = row(Line, Lh)"
   ]
  },
  {
   "cell_type": "code",
   "execution_count": 31,
   "metadata": {},
   "outputs": [],
   "source": [
    "tab1 = Panel(child=layouttab1, title = 'Overview')"
   ]
  },
  {
   "cell_type": "markdown",
   "metadata": {},
   "source": [
    "## Plot Tab2"
   ]
  },
  {
   "cell_type": "code",
   "execution_count": 36,
   "metadata": {},
   "outputs": [
    {
     "name": "stderr",
     "output_type": "stream",
     "text": [
      "/home/ubuntu/anaconda3/lib/python3.7/site-packages/ipykernel_launcher.py:9: SettingWithCopyWarning: \n",
      "A value is trying to be set on a copy of a slice from a DataFrame.\n",
      "Try using .loc[row_indexer,col_indexer] = value instead\n",
      "\n",
      "See the caveats in the documentation: http://pandas.pydata.org/pandas-docs/stable/user_guide/indexing.html#returning-a-view-versus-a-copy\n",
      "  if __name__ == '__main__':\n"
     ]
    }
   ],
   "source": [
    "#prepare uber data for tab2\n",
    "DFUb3 = pd.DataFrame({'pickups': DFU.groupby(['day_of_week', 'Hour']).size()}).reset_index()\n",
    "\n",
    "def make_dataset(list1):\n",
    "    by_day = pd.DataFrame(columns = ['day_of_week','Hour','pickups','color'])\n",
    "    \n",
    "    for i, day_name in enumerate(list1):\n",
    "        subset = DFUb3[DFUb3['day_of_week'] == day_name]\n",
    "        subset['color'] = Pastel1_7[i]\n",
    "        by_day = by_day.append(subset)\n",
    "        \n",
    "    return by_day\n",
    "days1 = ['Monday','Tuesday','Wednesday','Thursday','Friday','Saturday','Sunday']\n",
    "DFUFinal = make_dataset(days1)\n",
    "days = DFUFinal['day_of_week']\n",
    "days1 = list(set(DFUFinal['day_of_week']))\n",
    "day_of_week = Select(title=\"Day\", options=days1, value=\"All\")"
   ]
  },
  {
   "cell_type": "code",
   "execution_count": 37,
   "metadata": {},
   "outputs": [],
   "source": [
    "source = ColumnDataSource(data=dict(days=days, hour=DFUFinal['Hour'], pickups=DFUFinal['pickups'], color=DFUFinal['color'] ))\n",
    "\n",
    "#blank plot with correct labels\n",
    "h = figure(plot_width = 700, plot_height = 700, \n",
    "                  title = 'Uber Demand',\n",
    "                  x_axis_label = 'Hours', y_axis_label = 'Pickups')\n",
    "        \n",
    "#quad glyphs to create a histogram\n",
    "h.quad(source = source, bottom = 0, top = 'pickups', left = 'hour', right = 'hour',\n",
    "               color = 'color', fill_alpha = 0.1, legend = 'days',\n",
    "               hover_fill_alpha = 0.1, line_color = 'color', line_width = 22, line_alpha = 0.5)\n",
    "    \n",
    "#title \n",
    "h.title.align = 'center'\n",
    "h.title.text_font_size = '20pt'\n",
    "h.title.text_font = 'serif'\n",
    "\n",
    "#axis titles\n",
    "h.xaxis.axis_label_text_font_size = '14pt'\n",
    "h.xaxis.axis_label_text_font_style = 'bold'\n",
    "h.yaxis.axis_label_text_font_size = '14pt'\n",
    "h.yaxis.axis_label_text_font_style = 'bold'\n",
    "\n",
    "#tick labels\n",
    "h.xaxis.major_label_text_font_size = '12pt'\n",
    "h.yaxis.major_label_text_font_size = '12pt'\n",
    "h.yaxis.minor_tick_line_color = None\n",
    "h.xgrid.grid_line_color = None\n",
    "h.ygrid.grid_line_color = None\n",
    "      \n",
    "h.legend.location = \"top_left\"\n",
    "h.background_fill_color = \"gainsboro\"\n",
    "h.background_fill_alpha = 0.3\n",
    "h.outline_line_width = 3\n",
    "h.outline_line_alpha = 0.5\n",
    "h.outline_line_color = \"black\"\n",
    "\n",
    "Uber = h"
   ]
  },
  {
   "cell_type": "code",
   "execution_count": 38,
   "metadata": {},
   "outputs": [
    {
     "name": "stderr",
     "output_type": "stream",
     "text": [
      "/home/ubuntu/anaconda3/lib/python3.7/site-packages/ipykernel_launcher.py:8: SettingWithCopyWarning: \n",
      "A value is trying to be set on a copy of a slice from a DataFrame.\n",
      "Try using .loc[row_indexer,col_indexer] = value instead\n",
      "\n",
      "See the caveats in the documentation: http://pandas.pydata.org/pandas-docs/stable/user_guide/indexing.html#returning-a-view-versus-a-copy\n",
      "  \n"
     ]
    }
   ],
   "source": [
    "#prepare taxi data for tab 2\n",
    "DFb2 = pd.DataFrame({'pickups': DF.groupby(['day_of_week', 'Hour']).size()}).reset_index()\n",
    "def make_dataset(list1):\n",
    "    by_day = pd.DataFrame(columns = ['day_of_week','Hour','pickups','color'])\n",
    "    \n",
    "    for i, day_name in enumerate(list1):\n",
    "        subset = DFb2[DFb2['day_of_week'] == day_name]\n",
    "        subset['color'] = Pastel1_7[i]\n",
    "        by_day = by_day.append(subset)\n",
    "        \n",
    "    return by_day\n",
    "\n",
    "days2 = ['Monday','Tuesday','Wednesday','Thursday','Friday','Saturday','Sunday']\n",
    "DFFinal1 = make_dataset(days2)\n",
    "days = DFFinal1['day_of_week']\n",
    "days2 = list(set(DFFinal1['day_of_week']))\n",
    "day_of_week1 = Select(title=\"Day\", options=days1, value=\"All\")"
   ]
  },
  {
   "cell_type": "code",
   "execution_count": 39,
   "metadata": {},
   "outputs": [],
   "source": [
    "source1 = ColumnDataSource(data=dict(days=days, hour=DFFinal1['Hour'], pickups=DFFinal1['pickups'], color=DFFinal1['color'] ))\n",
    "\n",
    "#blank plot with correct labels\n",
    "h1 = figure(plot_width = 700, plot_height = 700, \n",
    "                  title = 'Taxi Demand',\n",
    "                  x_axis_label = 'Hours', y_axis_label = 'Pickups')\n",
    "#quad glyphs to create a histogram\n",
    "h1.quad(source = source1, bottom = 0, top = 'pickups', left = 'hour', right = 'hour',\n",
    "               color = 'color', fill_alpha = 0.1, legend = 'days',\n",
    "               hover_fill_alpha = 0.1, line_color = 'color', line_width = 22, line_alpha = 0.5)\n",
    "    \n",
    "#title \n",
    "h1.title.align = 'center'\n",
    "h1.title.text_font_size = '20pt'\n",
    "h1.title.text_font = 'serif'\n",
    "\n",
    "#axis titles\n",
    "h1.xaxis.axis_label_text_font_size = '14pt'\n",
    "h1.xaxis.axis_label_text_font_style = 'bold'\n",
    "h1.yaxis.axis_label_text_font_size = '14pt'\n",
    "h1.yaxis.axis_label_text_font_style = 'bold'\n",
    "\n",
    "#tick labels\n",
    "h1.xaxis.major_label_text_font_size = '12pt'\n",
    "h1.yaxis.major_label_text_font_size = '12pt'\n",
    "h1.yaxis.minor_tick_line_color = None\n",
    "h1.xgrid.grid_line_color = None\n",
    "h1.ygrid.grid_line_color = None\n",
    "      \n",
    "h1.legend.location = \"top_left\"\n",
    "h1.background_fill_color = \"gainsboro\"\n",
    "h1.background_fill_alpha = 0.3\n",
    "h1.outline_line_width = 3\n",
    "h1.outline_line_alpha = 0.5\n",
    "h1.outline_line_color = \"black\"\n",
    "\n",
    "Taxi = h1"
   ]
  },
  {
   "cell_type": "code",
   "execution_count": 40,
   "metadata": {},
   "outputs": [],
   "source": [
    "#add extra information \n",
    "t1 = {'Category': ['Base Fare ($)', 'Minimum Fare ($)', '$ per minute', '$ per mile', 'Additional Charges', 'Order Medium'], \n",
    "     'Uber': ['2.55', '7.00', '0.35', '1.75', 'Surge Charging during High Demand', 'Uber App Only'], \n",
    "     'Taxi': ['2.50', '2.50', '0.50', '2.50', 'Improvement Surcharge, Overnight Surcharge, Rush Hour Surcharge', 'Hail or Telephone']}\n",
    "table = pd.DataFrame(data=t1)"
   ]
  },
  {
   "cell_type": "code",
   "execution_count": 41,
   "metadata": {},
   "outputs": [],
   "source": [
    "source2 = ColumnDataSource(table)\n",
    "columns = [TableColumn(field=\"Category\", title=\"Category\"),\n",
    "           TableColumn(field=\"Uber\", title=\"Uber\"), \n",
    "           TableColumn(field=\"Taxi\", title=\"Taxi\")]\n",
    "ptable = DataTable(source=source2, columns=columns, width=1200, height=280, index_position=None)"
   ]
  },
  {
   "cell_type": "code",
   "execution_count": 44,
   "metadata": {},
   "outputs": [],
   "source": [
    "layouttab2 = gridplot([Uber, Taxi, ptable], sizing_mode= \"scale_width\", ncols=2)"
   ]
  },
  {
   "cell_type": "code",
   "execution_count": null,
   "metadata": {},
   "outputs": [],
   "source": [
    "tab2 = Panel(child=layouttab2, title = '24/7 Availability')"
   ]
  },
  {
   "cell_type": "markdown",
   "metadata": {},
   "source": [
    "## Plot Tab3"
   ]
  },
  {
   "cell_type": "code",
   "execution_count": 46,
   "metadata": {},
   "outputs": [],
   "source": [
    "#import New York Shapefile\n",
    "NYS = gpd.read_file(gpd.datasets.get_path('nybb'))"
   ]
  },
  {
   "cell_type": "code",
   "execution_count": 47,
   "metadata": {},
   "outputs": [
    {
     "data": {
      "text/plain": [
       "{'init': 'epsg:2263'}"
      ]
     },
     "execution_count": 47,
     "metadata": {},
     "output_type": "execute_result"
    }
   ],
   "source": [
    "#check the coordinate system of New York Shapefile and convert it to EPSG4326\n",
    "NYS.crs"
   ]
  },
  {
   "cell_type": "code",
   "execution_count": 48,
   "metadata": {},
   "outputs": [
    {
     "name": "stderr",
     "output_type": "stream",
     "text": [
      "/home/ubuntu/anaconda3/lib/python3.7/site-packages/pyproj/crs.py:77: FutureWarning: '+init=<authority>:<code>' syntax is deprecated. '<authority>:<code>' is the preferred initialization method.\n",
      "  return _prepare_from_string(\" \".join(pjargs))\n"
     ]
    }
   ],
   "source": [
    "NYS = NYS.to_crs(epsg=4326)"
   ]
  },
  {
   "cell_type": "code",
   "execution_count": 49,
   "metadata": {},
   "outputs": [],
   "source": [
    "#start plotting the map\n",
    "geosource = GeoJSONDataSource(geojson = NYS.to_json())\n",
    "#create figure object.\n",
    "m = figure(title = 'Availability of Uber within 24 Hours in New York', \n",
    "           plot_height = 650 ,\n",
    "           plot_width = 650, \n",
    "           toolbar_location = 'below',\n",
    "           x_range = (-74.60, -73.38),\n",
    "           y_range = (40.44, 40.94),\n",
    "           tools = 'pan, wheel_zoom, box_zoom, reset'\n",
    "          )\n",
    "m.xgrid.grid_line_color = None\n",
    "m.ygrid.grid_line_color = None\n",
    "m.background_fill_color = \"black\"\n",
    "#add patch renderer to figure.\n",
    "area = m.patches('xs','ys', source = geosource,\n",
    "                   fill_color = 'black',\n",
    "                   line_color = 'white', \n",
    "                   line_width = 0.5, \n",
    "                   fill_alpha = 1)\n",
    "#create hover tool\n",
    "m.add_tools(HoverTool(renderers = [area],\n",
    "                      tooltips = [('Borough','@BoroName')]))"
   ]
  },
  {
   "cell_type": "code",
   "execution_count": 50,
   "metadata": {},
   "outputs": [],
   "source": [
    "#assign the coordinate system to dataframe\n",
    "DFU_crs = {'init': 'epsg:4326'}"
   ]
  },
  {
   "cell_type": "code",
   "execution_count": 51,
   "metadata": {},
   "outputs": [],
   "source": [
    "#prepare data for the plot\n",
    "points = gpd.points_from_xy(DFU.Lon, DFU.Lat)\n",
    "DFU_geo = gpd.GeoDataFrame(DFU, crs=DFU_crs, geometry=points)\n",
    "# Get x and y coordinates\n",
    "DFU_geo['x'] = [geometry.x for geometry in DFU_geo['geometry']]\n",
    "DFU_geo['y'] = [geometry.y for geometry in DFU_geo['geometry']]\n",
    "m_df = DFU_geo.drop('geometry', axis = 1).copy()\n",
    "sitesource = ColumnDataSource(m_df)"
   ]
  },
  {
   "cell_type": "code",
   "execution_count": 52,
   "metadata": {},
   "outputs": [],
   "source": [
    "#make a slider object to toggle the hour shown\n",
    "slider = Slider(title = 'Hour', \n",
    "                start = 0, end = 24, \n",
    "                step = 1, value = 1)"
   ]
  },
  {
   "cell_type": "code",
   "execution_count": 53,
   "metadata": {},
   "outputs": [],
   "source": [
    "#this callback triggers the filter when the slider changes\n",
    "callback = CustomJS(args = dict(source=sitesource), \n",
    "                    code = \"\"\"source.change.emit();\"\"\")\n",
    "slider.js_on_change('value', callback)\n",
    "#creates custom filter that selects the rows of the hour based on the value in the slider\n",
    "custom_filter = CustomJSFilter(args = dict(slider = slider, \n",
    "                                           source = sitesource), \n",
    "                               code = \"\"\"\n",
    "var indices = [];\n",
    "// iterate through rows of data source and see if each satisfies some constraint\n",
    "for (var i = 0; i < source.get_length(); i++){\n",
    " if (source.data['Hour'][i] == slider.value){\n",
    " indices.push(true);\n",
    " } else {\n",
    " indices.push(false);\n",
    " }\n",
    "}\n",
    "return indices;\n",
    "\"\"\")\n",
    "#uses custom_filter to determine which set of sites are visible\n",
    "view = CDSView(source = sitesource, filters = [custom_filter])"
   ]
  },
  {
   "cell_type": "code",
   "execution_count": 59,
   "metadata": {},
   "outputs": [],
   "source": [
    "#plot data on the map based on hour in slider\n",
    "sites = m.circle('x', 'y', source = sitesource, color = 'red',  \n",
    "                 size = 1, alpha = 0.3, view = view)\n",
    "# Make a column layout of widgetbox(slider) and plot, and add it to the current document\n",
    "layout1 = column(m, widgetbox(slider))"
   ]
  },
  {
   "cell_type": "code",
   "execution_count": 55,
   "metadata": {},
   "outputs": [],
   "source": [
    "d2 = {'Borough': ['The Bronx', 'Brooklyn', 'Manhattan', 'Queens', 'Staten Island'], \n",
    "      'Per Capita Income 2013-17($)': ['19,721', '29,928', '69,529', '28,814', '33,922'], \n",
    "      'Population estimate 2018': ['1,432,132', '2,582,830', '1,628,701', '2,278,906', '476,179'],\n",
    "      '% Working Age 2018 (18-65 years)': ['62.4','62.0','69.2','64.2','62.0'],\n",
    "      'Total Retail Sales per capita 2012 ($)': ['4,880', '8,003', '27,200', '7,481', '8,106']\n",
    "     }\n",
    "table2 = pd.DataFrame(data=d2)"
   ]
  },
  {
   "cell_type": "code",
   "execution_count": 56,
   "metadata": {},
   "outputs": [],
   "source": [
    "source = ColumnDataSource(table2)\n",
    "columns = [TableColumn(field=\"Borough\", title=\"Borough\"),\n",
    "           TableColumn(field=\"Per Capita Income 2013-17($)\", title=\"Per Capita Income 2013-17($)\"),\n",
    "           TableColumn(field=\"Population estimate 2018\", title=\"Population estimate 2018\"), \n",
    "           TableColumn(field=\"% Working Age 2018 (18-65 years)\", title=\"% Working Age 2018 (18-65 years)\"),\n",
    "           TableColumn(field=\"Total Retail Sales per capita 2012 ($)\", title=\"Total Retail Sales per capita 2012 ($)\")]\n",
    "data_table = DataTable(source=source, columns=columns, width=1200, height=280, index_position=None)"
   ]
  },
  {
   "cell_type": "code",
   "execution_count": 60,
   "metadata": {},
   "outputs": [],
   "source": [
    "layouttab3 = row(layout1, data_table)"
   ]
  },
  {
   "cell_type": "code",
   "execution_count": null,
   "metadata": {},
   "outputs": [],
   "source": [
    "tab3 = Panel(child=layouttab3, title = 'Geospatial Analysis')"
   ]
  },
  {
   "cell_type": "markdown",
   "metadata": {},
   "source": [
    "## Plot Tab4"
   ]
  },
  {
   "cell_type": "code",
   "execution_count": 64,
   "metadata": {},
   "outputs": [],
   "source": [
    "#prepare data for the plot\n",
    "DF2 = pd.DataFrame({'Total' : DF.groupby( [\"Month\",\"pickup_longitude\",\"pickup_latitude\",\"Type\"] ).size()}).reset_index()\n",
    "DFU1 = pd.DataFrame({'Total' : DFU.groupby( [\"Month\",\"Lon\", \"Lat\",\"Type\"] ).size()}).reset_index()\n",
    "\n",
    "#Taxi - Tourism\n",
    "DFT1 = DF2.loc[(DF2[\"pickup_longitude\"]>-73.9868) & (DF2['pickup_longitude']<-73.9848) & (DF2['pickup_latitude'] > 40.7562) & (DF2['pickup_latitude'] < 40.7582) ]\n",
    "DFT1 = DFT1.copy()\n",
    "DFT1['Landmark'] = 'Times Square'\n",
    "DFT2 = DF2.loc[(DF2[\"pickup_longitude\"]>-73.9972) & (DF2['pickup_longitude']<-73.9952) & (DF2['pickup_latitude'] > 40.7154) & (DF2['pickup_latitude'] < 40.7174) ]\n",
    "DFT2 = DFT2.copy()\n",
    "DFT2['Landmark'] = 'Chinatown'\n",
    "DFT3 = DF2.loc[(DF2[\"pickup_longitude\"]>-73.9632) & (DF2['pickup_longitude']<-73.9612) & (DF2['pickup_latitude'] > 40.7777) & (DF2['pickup_latitude'] < 40.7797) ]\n",
    "DFT3 = DFT3.copy()\n",
    "DFT3['Landmark'] = 'Metropolitan Museum'\n",
    "DFT4 = DF2.loc[(DF2[\"pickup_longitude\"]<-73.9749) & (DF2['pickup_longitude']>-73.9759) & (DF2['pickup_latitude'] > 40.7613) & (DF2['pickup_latitude'] < 40.7633) ]\n",
    "DFT4 = DFT4.copy()\n",
    "DFT4['Landmark'] = 'Trump Tower'\n",
    "DFT5 = DF2.loc[(DF2[\"pickup_longitude\"]>-73.9742) & (DF2['pickup_longitude']<-73.9722) & (DF2['pickup_latitude'] > 40.7804) & (DF2['pickup_latitude'] < 40.74504) ]\n",
    "DFT5 = DFT5.copy()\n",
    "DFT5['Landmark'] = 'Central Park West'\n",
    "DFT6 = DF2.loc[(DF2[\"pickup_longitude\"]>-73.9866) & (DF2['pickup_longitude']<-73.9846) & (DF2['pickup_latitude'] > 40.7474) & (DF2['pickup_latitude'] < 40.7494) ]\n",
    "DFT6 = DFT6.copy()\n",
    "DFT6['Landmark'] = 'Empire State Building'\n",
    "DFT = (pd.concat([DFT1, DFT2, DFT3, DFT4, DFT5, DFT6], sort=True))\n",
    "DFTF = pd.DataFrame({'Overall' : DFT.groupby( [\"Month\",\"Landmark\",\"Type\"] ).size()}).reset_index()\n",
    "DFTF['Function'] = 'Tourism'\n",
    "\n",
    "#Taxi - Business\n",
    "DFB1 = DF2.loc[(DF2[\"pickup_longitude\"]>-73.9763) & (DF2['pickup_longitude']<-73.9743) & (DF2['pickup_latitude'] > 40.7506) & (DF2['pickup_latitude'] < 40.7526) ]\n",
    "DFB1 = DFB1.copy()\n",
    "DFB1['Landmark'] = 'Chrysler Building'\n",
    "DFB2 = DF2.loc[(DF[\"pickup_longitude\"]>-73.9777) & (DF2['pickup_longitude']<-73.9757) & (DF2['pickup_latitude'] > 40.7544) & (DF2['pickup_latitude'] < 40.7564) ]\n",
    "DFB2 = DFB2.copy()\n",
    "DFB2['Landmark'] = 'JP Morgan Chase'\n",
    "DFB3 = DF2.loc[(DF2[\"pickup_longitude\"]>-74.2337) & (DF2['pickup_longitude']<-74.2317) & (DF2['pickup_latitude'] > 40.6494) & (DF2['pickup_latitude'] < 40.6514) ]\n",
    "DFB3 = DFB3.copy()\n",
    "DFB3['Landmark'] = '200 Park Avenue'\n",
    "DFB4 = DF2.loc[(DF2[\"pickup_longitude\"]>-74.0154) & (DF2['pickup_longitude']<-74.0134) & (DF2['pickup_latitude'] > 40.7137) & (DF2['pickup_latitude'] < 40.7157) ]\n",
    "DFB4 = DFB4.copy()\n",
    "DFB4['Landmark'] = 'Goldman Sachs'\n",
    "DFB5 = DF2.loc[(DF2[\"pickup_longitude\"]>-73.9865) & (DF2['pickup_longitude']<-73.9845) & (DF2['pickup_latitude'] > 40.7589) & (DF2['pickup_latitude'] < 40.7609) ]\n",
    "DFB5 = DFB5.copy()\n",
    "DFB5['Landmark'] = 'Morgan Stanley'\n",
    "DFB6 = DF2.loc[(DF2[\"pickup_longitude\"]>-74.0079) & (DF2['pickup_longitude']<-74.0059) & (DF2['pickup_latitude'] > 40.7038) & (DF2['pickup_latitude'] < 40.7058) ]\n",
    "DFB6 = DFB6.copy()\n",
    "DFB6['Landmark'] = 'Wall Street'\n",
    "DFB = (pd.concat([DFB1, DFB2, DFB3, DFB4, DFB5, DFB6], sort=True))\n",
    "DFBF = pd.DataFrame({'Overall' : DFB.groupby( [\"Month\",\"Landmark\",\"Type\"] ).size()}).reset_index()\n",
    "DFBF['Function'] = 'Business'\n",
    "\n",
    "#Taxi - Education\n",
    "DFE1 = DF2.loc[(DF2[\"pickup_longitude\"]>-73.9831) & (DF2['pickup_longitude']<-73.9811) & (DF2['pickup_latitude'] > 40.7523) & (DF2['pickup_latitude'] < 40.7543) ]\n",
    "DFE1 = DFE1.copy()\n",
    "DFE1['Landmark'] = 'New York Public Library'\n",
    "DFE2 = DF2.loc[(DF2[\"pickup_longitude\"]>-73.9972) & (DF2['pickup_longitude']<-73.9952) & (DF2['pickup_latitude'] > 40.7282) & (DF2['pickup_latitude'] < 40.7302) ]\n",
    "DFE2 = DFE2.copy()\n",
    "DFE2['Landmark'] = 'NYU'\n",
    "DFE3 = DF2.loc[(DF2[\"pickup_longitude\"]>-73.9627) & (DF2['pickup_longitude']<-73.9607) & (DF2['pickup_latitude'] > 40.8069) & (DF2['pickup_latitude'] < 40.8089) ]\n",
    "DFE3 = DFE3.copy()\n",
    "DFE3['Landmark'] = 'Columbia University'\n",
    "DFE4 = DF2.loc[(DF2[\"pickup_longitude\"]>-73.9839) & (DF2['pickup_longitude']<-73.9819) & (DF2['pickup_latitude'] > 40.7729) & (DF2['pickup_latitude'] < 40.7749) ]\n",
    "DFE4 = DFE4.copy()\n",
    "DFE4['Landmark'] = 'The Julliard School'\n",
    "DFE = (pd.concat([DFE1, DFE2, DFE3, DFE4], sort=True))\n",
    "DFEF = pd.DataFrame({'Overall' : DFE.groupby( [\"Month\",\"Landmark\",\"Type\"] ).size()}).reset_index()\n",
    "DFEF['Function'] = 'Education'\n",
    "\n",
    "#Taxi - Nightlife\n",
    "DFN1 = DF2.loc[(DF2[\"pickup_longitude\"]>-73.7512) & (DF2['pickup_longitude']<-73.7492) & (DF2['pickup_latitude'] > 40.6539) & (DF2['pickup_latitude'] < 40.6559) ]\n",
    "DFN1 = DFN1.copy()\n",
    "DFN1['Landmark'] = 'Palace Theatre'\n",
    "DFN2 = DF2.loc[(DF2[\"pickup_longitude\"]>-73.9887) & (DF2['pickup_longitude']<-73.9867) & (DF2['pickup_latitude'] > 40.7201) & (DF2['pickup_latitude'] < 40.7221) ]\n",
    "DFN2 = DFN2.copy()\n",
    "DFN2['Landmark'] = 'Ludlow Street'\n",
    "DFN3 = DF2.loc[(DF2[\"pickup_longitude\"]>-75.2277) & (DF2['pickup_longitude']<-75.2257) & (DF2['pickup_latitude'] > 43.1000) & (DF2['pickup_latitude'] < 43.1020) ]\n",
    "DFN4 = DF2.loc[(DF2[\"pickup_longitude\"]>-74.0016) & (DF2['pickup_longitude']<-73.0094) & (DF2['pickup_latitude'] > 40.7394) & (DF2['pickup_latitude'] < 40.7319) ]\n",
    "DFN4 = DFN4.copy()\n",
    "DFN4['Landmark'] = 'MacDougal Street'\n",
    "DFN5 = DF2.loc[(DF2[\"pickup_longitude\"]>-73.9852) & (DF2['pickup_longitude']<-73.9832) & (DF2['pickup_latitude'] > 40.7715) & (DF2['pickup_latitude'] < 40.7735) ]\n",
    "DFN5 = DFN5.copy()\n",
    "DFN5['Landmark'] = 'Lincoln Centre for Performing Arts'\n",
    "DFN = (pd.concat([DFN1, DFN2, DFN3, DFN4, DFN5], sort=True))\n",
    "DFNF = pd.DataFrame({'Overall' : DFN.groupby( [\"Month\",\"Landmark\",\"Type\"] ).size()}).reset_index()\n",
    "DFNF['Function'] = 'Nightlife'\n",
    "DF_tab4 = (pd.concat([DFNF,DFEF,DFBF,DFTF], sort=True))\n",
    "\n",
    "#Uber - Tourism\n",
    "DFUT1 = DFU1.loc[(DFU1[\"Lon\"]>-73.9868) & (DFU1['Lon']<-73.9848) & (DFU1['Lat'] > 40.7562) & (DFU1['Lat'] < 40.7582) ]\n",
    "DFUT1 = DFUT1.copy()\n",
    "DFUT1['Landmark'] = 'Times Square'\n",
    "DFUT2 = DFU1.loc[(DFU1[\"Lon\"]>-73.9972) & (DFU1['Lon']<-73.9952) & (DFU1['Lat'] > 40.7154) & (DFU1['Lat'] < 40.7174) ]\n",
    "DFUT2 = DFUT2.copy()\n",
    "DFUT2['Landmark'] = 'Chinatown'\n",
    "DFUT3 = DFU1.loc[(DFU1[\"Lon\"]>-73.9632) & (DFU1['Lon']<-73.9612) & (DFU1['Lat'] > 40.7777) & (DFU1['Lat'] < 40.7797) ]\n",
    "DFUT3 = DFUT3.copy()\n",
    "DFUT3['Landmark'] = 'Metropolitan Museum'\n",
    "DFUT4 = DFU1.loc[(DFU1[\"Lon\"]>-73.9749) & (DFU1['Lon']<-73.9759) & (DFU1['Lat'] > 40.7613) & (DFU1['Lat'] < 40.7633) ]\n",
    "DFUT4 = DFUT4.copy()\n",
    "DFUT4['Landmark'] = 'Trump Tower'\n",
    "DFUT5 = DFU1.loc[(DFU1[\"Lon\"]>-73.9742) & (DFU1['Lon']<-73.9722) & (DFU1['Lat'] > 40.7804) & (DFU1['Lat'] < 40.74504) ]\n",
    "DFUT5 = DFUT5.copy()\n",
    "DFUT5['Landmark'] = 'Central Park West'\n",
    "DFUT6 = DFU1.loc[(DFU1[\"Lon\"]>-73.9866) & (DFU1['Lon']<-73.9846) & (DFU1['Lat'] > 40.7474) & (DFU1['Lat'] < 40.7494) ]\n",
    "DFUT6 = DFUT6.copy()\n",
    "DFUT6['Landmark'] = 'Empire State Building'\n",
    "DFUT = (pd.concat([DFUT1, DFUT2, DFUT3, DFUT4, DFUT5, DFUT6], sort=True))\n",
    "DFUTF = pd.DataFrame({'Overall' : DFUT.groupby( [\"Month\",\"Landmark\",\"Type\"] ).size()}).reset_index()\n",
    "DFUTF['Function'] ='Tourism'\n",
    "\n",
    "#Uber - Business\n",
    "DFUB1 = DFU1.loc[(DFU1[\"Lon\"]>-73.9763) & (DFU1['Lon']<-73.9743) & (DFU1['Lat'] > 40.7506) & (DFU1['Lat'] < 40.7526) ]\n",
    "DFUB1 = DFUB1.copy()\n",
    "DFUB1['Landmark'] = 'Chrysler Building'\n",
    "DFUB2 = DFU1.loc[(DFU1[\"Lon\"]>-73.9777) & (DFU1['Lon']<-73.9757) & (DFU1['Lat'] > 40.7544) & (DFU1['Lat'] < 40.7564) ]\n",
    "DFUB2 = DFUB2.copy()\n",
    "DFUB2['Landmark'] = 'JP Morgan Chase'\n",
    "DFUB3 = DFU1.loc[(DFU1[\"Lon\"]>-74.2337) & (DFU1['Lon']<-74.2317) & (DFU1['Lat'] > 40.6494) & (DFU1['Lat'] < 40.6514) ]\n",
    "DFUB3 = DFUB3.copy()\n",
    "DFUB3['Landmark'] = '200 Park Avenue'\n",
    "DFUB4 = DFU1.loc[(DFU1[\"Lon\"]>-74.0154) & (DFU1['Lon']<-74.0134) & (DFU1['Lat'] > 40.7137) & (DFU1['Lat'] < 40.7157) ]\n",
    "DFUB4 = DFUB4.copy()\n",
    "DFUB4['Landmark'] = 'Goldman Sachs'\n",
    "DFUB5 = DFU1.loc[(DFU1[\"Lon\"]>-73.9865) & (DFU1['Lon']<-73.9845) & (DFU1['Lat'] > 40.7589) & (DFU1['Lat'] < 40.7609) ]\n",
    "DFUB5 = DFUB5.copy()\n",
    "DFUB5['Landmark'] = 'Morgan Stanley'\n",
    "DFUB6 = DFU1.loc[(DFU1[\"Lon\"]>-74.0079) & (DFU1['Lon']<-74.0059) & (DFU1['Lat'] > 40.7038) & (DFU1['Lat'] < 40.7058) ]\n",
    "DFUB6 = DFUB6.copy()\n",
    "DFUB6['Landmark'] = 'Wall Street'\n",
    "DFUB = (pd.concat([DFUB1, DFUB2, DFUB3, DFUB4, DFUB5, DFUB6], sort=True))\n",
    "DFUBF = pd.DataFrame({'Overall' : DFUB.groupby( [\"Month\",\"Landmark\",\"Type\"] ).size()}).reset_index()\n",
    "DFUBF['Function'] = 'Business'\n",
    "\n",
    "#Uber - Education\n",
    "DFUE1 = DFU1.loc[(DFU1[\"Lon\"]>-73.9831) & (DFU1['Lon']<-73.9811) & (DFU1['Lat'] > 40.7523) & (DFU1['Lat'] < 40.7543) ]\n",
    "DFUE1 = DFUE1.copy()\n",
    "DFUE1['Landmark'] = 'New York Public Library'\n",
    "DFUE2 = DFU1.loc[(DFU1[\"Lon\"]>-73.9972) & (DFU1['Lon']<-73.9952) & (DFU1['Lat'] > 40.7282) & (DFU1['Lat'] < 40.7302) ]\n",
    "DFUE2 = DFUE2.copy()\n",
    "DFUE2['Landmark'] = 'NYU'\n",
    "DFUE3 = DFU1.loc[(DFU1[\"Lon\"]>-73.9627) & (DFU1['Lon']<-73.9607) & (DFU1['Lat'] > 40.8069) & (DFU1['Lat'] < 40.8089) ]\n",
    "DFUE3 = DFUE3.copy()\n",
    "DFUE3['Landmark'] = 'Columbia University'\n",
    "DFUE4 = DFU1.loc[(DFU1[\"Lon\"]>-73.9839) & (DFU1['Lon']<-73.9819) & (DFU1['Lat'] > 40.7729) & (DFU1['Lat'] < 40.7749) ]\n",
    "DFUE4 = DFUE4.copy()\n",
    "DFUE4['Landmark'] = 'The Julliard School'\n",
    "DFUE = (pd.concat([DFUE1, DFUE2, DFUE3, DFUE4], sort=True))\n",
    "DFUEF = pd.DataFrame({'Overall' : DFUE.groupby( [\"Month\",\"Landmark\",\"Type\"] ).size()}).reset_index()\n",
    "DFUEF['Function'] = 'Education'\n",
    "\n",
    "#Uber - Nightlife\n",
    "DFUN1 = DFU1.loc[(DFU1[\"Lon\"]>-73.7512) & (DFU1['Lon']<-73.7492) & (DFU1['Lat'] > 40.6539) & (DFU1['Lat'] < 40.6559) ]\n",
    "DFUN1 = DFUN1.copy()\n",
    "DFUN1['Landmark'] = 'Palace Theatre'\n",
    "DFUN2 = DFU1.loc[(DFU1[\"Lon\"]>-73.9887) & (DFU1['Lon']<-73.9867) & (DFU1['Lat'] > 40.7201) & (DFU1['Lat'] < 40.7221) ]\n",
    "DFUN2 = DFUN2.copy()\n",
    "DFUN2['Landmark'] = 'Ludlow Street'\n",
    "DFUN3 = DFU1.loc[(DFU1[\"Lon\"]>-75.2277) & (DFU1['Lon']<-75.2257) & (DFU1['Lat'] > 43.1000) & (DFU1['Lat'] < 43.1020) ]\n",
    "DFUN3 = DFUN3.copy()\n",
    "DFUN3['Landmark'] = 'Bleecker Street'\n",
    "DFUN4 = DFU1.loc[(DFU1[\"Lon\"]>-73.9101) & (DFU1['Lon']<-73.9081) & (DFU1['Lat'] > 40.6794) & (DFU1['Lat'] < 40.6814) ]\n",
    "DFUN4 = DFUN4.copy()\n",
    "DFUN4['Landmark'] = 'MacDougal Street'\n",
    "DFUN5 = DFU1.loc[(DFU1[\"Lon\"]>-73.9852) & (DFU1['Lon']<-73.9832) & (DFU1['Lat'] > 40.7715) & (DFU1['Lat'] < 40.7735) ]\n",
    "DFUN5 = DFUN5.copy()\n",
    "DFUN5['Landmark'] = 'Lincoln Centre for Performing Arts'\n",
    "DFUN = (pd.concat([DFUN1, DFUN2, DFUN3, DFUN4, DFUN5], sort=True))\n",
    "DFUNF = pd.DataFrame({'Overall' : DFUN.groupby( [\"Month\",\"Landmark\",\"Type\"] ).size()}).reset_index()\n",
    "DFUNF['Function'] = 'Nightlife'\n",
    "DFU_tab4= (pd.concat([DFUNF,DFUEF,DFUBF,DFUTF], sort=True))\n",
    "DF_tab4['Overall']=DF_tab4['Overall'].div(18.17)\n",
    "DF_tab4.Overall = DF_tab4.Overall.round()"
   ]
  },
  {
   "cell_type": "code",
   "execution_count": 70,
   "metadata": {
    "scrolled": true
   },
   "outputs": [
    {
     "data": {
      "text/html": [
       "<div style=\"display: table;\"><div style=\"display: table-row;\"><div style=\"display: table-cell;\"><b title=\"bokeh.models.renderers.GlyphRenderer\">GlyphRenderer</b>(</div><div style=\"display: table-cell;\">id&nbsp;=&nbsp;'1691', <span id=\"1694\" style=\"cursor: pointer;\">&hellip;)</span></div></div><div class=\"1693\" style=\"display: none;\"><div style=\"display: table-cell;\"></div><div style=\"display: table-cell;\">data_source&nbsp;=&nbsp;ColumnDataSource(id='1651', ...),</div></div><div class=\"1693\" style=\"display: none;\"><div style=\"display: table-cell;\"></div><div style=\"display: table-cell;\">glyph&nbsp;=&nbsp;Circle(id='1689', ...),</div></div><div class=\"1693\" style=\"display: none;\"><div style=\"display: table-cell;\"></div><div style=\"display: table-cell;\">hover_glyph&nbsp;=&nbsp;None,</div></div><div class=\"1693\" style=\"display: none;\"><div style=\"display: table-cell;\"></div><div style=\"display: table-cell;\">js_event_callbacks&nbsp;=&nbsp;{},</div></div><div class=\"1693\" style=\"display: none;\"><div style=\"display: table-cell;\"></div><div style=\"display: table-cell;\">js_property_callbacks&nbsp;=&nbsp;{},</div></div><div class=\"1693\" style=\"display: none;\"><div style=\"display: table-cell;\"></div><div style=\"display: table-cell;\">level&nbsp;=&nbsp;'glyph',</div></div><div class=\"1693\" style=\"display: none;\"><div style=\"display: table-cell;\"></div><div style=\"display: table-cell;\">muted&nbsp;=&nbsp;False,</div></div><div class=\"1693\" style=\"display: none;\"><div style=\"display: table-cell;\"></div><div style=\"display: table-cell;\">muted_glyph&nbsp;=&nbsp;None,</div></div><div class=\"1693\" style=\"display: none;\"><div style=\"display: table-cell;\"></div><div style=\"display: table-cell;\">name&nbsp;=&nbsp;None,</div></div><div class=\"1693\" style=\"display: none;\"><div style=\"display: table-cell;\"></div><div style=\"display: table-cell;\">nonselection_glyph&nbsp;=&nbsp;Circle(id='1690', ...),</div></div><div class=\"1693\" style=\"display: none;\"><div style=\"display: table-cell;\"></div><div style=\"display: table-cell;\">selection_glyph&nbsp;=&nbsp;None,</div></div><div class=\"1693\" style=\"display: none;\"><div style=\"display: table-cell;\"></div><div style=\"display: table-cell;\">subscribed_events&nbsp;=&nbsp;[],</div></div><div class=\"1693\" style=\"display: none;\"><div style=\"display: table-cell;\"></div><div style=\"display: table-cell;\">tags&nbsp;=&nbsp;[],</div></div><div class=\"1693\" style=\"display: none;\"><div style=\"display: table-cell;\"></div><div style=\"display: table-cell;\">view&nbsp;=&nbsp;CDSView(id='1692', ...),</div></div><div class=\"1693\" style=\"display: none;\"><div style=\"display: table-cell;\"></div><div style=\"display: table-cell;\">visible&nbsp;=&nbsp;True,</div></div><div class=\"1693\" style=\"display: none;\"><div style=\"display: table-cell;\"></div><div style=\"display: table-cell;\">x_range_name&nbsp;=&nbsp;'default',</div></div><div class=\"1693\" style=\"display: none;\"><div style=\"display: table-cell;\"></div><div style=\"display: table-cell;\">y_range_name&nbsp;=&nbsp;'default')</div></div></div>\n",
       "<script>\n",
       "(function() {\n",
       "  var expanded = false;\n",
       "  var ellipsis = document.getElementById(\"1694\");\n",
       "  ellipsis.addEventListener(\"click\", function() {\n",
       "    var rows = document.getElementsByClassName(\"1693\");\n",
       "    for (var i = 0; i < rows.length; i++) {\n",
       "      var el = rows[i];\n",
       "      el.style.display = expanded ? \"none\" : \"table-row\";\n",
       "    }\n",
       "    ellipsis.innerHTML = expanded ? \"&hellip;)\" : \"&lsaquo;&lsaquo;&lsaquo;\";\n",
       "    expanded = !expanded;\n",
       "  });\n",
       "})();\n",
       "</script>\n"
      ],
      "text/plain": [
       "GlyphRenderer(id='1691', ...)"
      ]
     },
     "execution_count": 70,
     "metadata": {},
     "output_type": "execute_result"
    }
   ],
   "source": [
    "#start plotting\n",
    "DFU_tab4.loc[DFU_tab4['Function'] == 'Education', 'Color'] = 'brown'\n",
    "DFU_tab4.loc[DFU_tab4['Function'] == 'Tourism', 'Color'] = 'aqua'\n",
    "DFU_tab4.loc[DFU_tab4['Function'] == 'Business', 'Color'] = 'limegreen'\n",
    "DFU_tab4.loc[DFU_tab4['Function'] == 'Nightlife', 'Color'] = 'hotpink'\n",
    "function = DFU_tab4['Function']\n",
    "landmark = DFU_tab4['Landmark']\n",
    "month = DFU_tab4['Month']\n",
    "source = ColumnDataSource(data=dict(color=DFU_tab4['Color'], month=month, \n",
    "                                    function=function, landmark=landmark, \n",
    "                                    total_uber=DFU_tab4['Overall'], total_taxi=DF_tab4['Overall']))\n",
    "\n",
    "hover = HoverTool(tooltips=[\n",
    "    (\"Function\", \"@function\"),\n",
    "    (\"Landmark\", \"@landmark\"),\n",
    "    (\"Month\", \"@month\"),\n",
    "])\n",
    "TOOLS = [\n",
    "    hover, BoxZoomTool(), LassoSelectTool(), WheelZoomTool(), PanTool(),\n",
    "    ResetTool(), SaveTool()\n",
    "]\n",
    "\n",
    "s = figure(\n",
    "    plot_height=600,\n",
    "    plot_width=700,\n",
    "    title=\"Manhattan Taxi vs Uber\",\n",
    "    tools=TOOLS,\n",
    "    x_axis_label=\"Taxi\",\n",
    "    y_axis_label=\"Uber\",\n",
    "    toolbar_location=\"above\",\n",
    "    y_range=(0, 360))\n",
    "\n",
    "s.circle(\n",
    "    y=\"total_uber\",\n",
    "    x=\"total_taxi\",\n",
    "    source=source,\n",
    "    fill_color='color',\n",
    "    size=7,\n",
    "    alpha=0.4,\n",
    "    legend=\"function\")\n",
    "\n",
    "#show(s)"
   ]
  },
  {
   "cell_type": "code",
   "execution_count": 72,
   "metadata": {},
   "outputs": [],
   "source": [
    "layouttab4 = (s)\n",
    "tab4 = Panel(child=layouttab4, title = 'Manhattan Hotspots')"
   ]
  },
  {
   "cell_type": "code",
   "execution_count": null,
   "metadata": {},
   "outputs": [],
   "source": [
    "tabs = Tabs(tabs=[tab1,tab2,tab3,tab4])\n",
    "curdoc().add_root(tabs)"
   ]
  }
 ],
 "metadata": {
  "kernelspec": {
   "display_name": "Python 3",
   "language": "python",
   "name": "python3"
  },
  "language_info": {
   "codemirror_mode": {
    "name": "ipython",
    "version": 3
   },
   "file_extension": ".py",
   "mimetype": "text/x-python",
   "name": "python",
   "nbconvert_exporter": "python",
   "pygments_lexer": "ipython3",
   "version": "3.7.3"
  },
  "toc": {
   "base_numbering": 1,
   "nav_menu": {},
   "number_sections": true,
   "sideBar": true,
   "skip_h1_title": false,
   "title_cell": "Table of Contents",
   "title_sidebar": "Contents",
   "toc_cell": false,
   "toc_position": {},
   "toc_section_display": true,
   "toc_window_display": false
  },
  "varInspector": {
   "cols": {
    "lenName": 16,
    "lenType": 16,
    "lenVar": 40
   },
   "kernels_config": {
    "python": {
     "delete_cmd_postfix": "",
     "delete_cmd_prefix": "del ",
     "library": "var_list.py",
     "varRefreshCmd": "print(var_dic_list())"
    },
    "r": {
     "delete_cmd_postfix": ") ",
     "delete_cmd_prefix": "rm(",
     "library": "var_list.r",
     "varRefreshCmd": "cat(var_dic_list()) "
    }
   },
   "types_to_exclude": [
    "module",
    "function",
    "builtin_function_or_method",
    "instance",
    "_Feature"
   ],
   "window_display": false
  }
 },
 "nbformat": 4,
 "nbformat_minor": 2
}
